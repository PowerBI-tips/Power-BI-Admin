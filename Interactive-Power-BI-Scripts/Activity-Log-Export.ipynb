{
 "metadata": {
  "kernelspec": {
   "name": ".net-csharp",
   "display_name": ".NET (C#)",
   "language": "C#"
  },
  "language_info": {
   "name": "C#"
  }
 },
 "nbformat": 4,
 "nbformat_minor": 2,
 "cells": [
  {
   "cell_type": "markdown",
   "source": [
    "# Activity Log - Export\n",
    "\n",
    "**Author**: Melissa Coates  \n",
    "\n",
    "**Last updated and tested**: September 29, 2022 \n",
    "\n",
    "**Purpose:** This notebook exports data from the [Power BI activity log](https://docs.microsoft.com/en-us/power-bi/admin/service-admin-auditing).\n",
    "\n",
    "**Type of authentication**: You can log in with either:\n",
    "\n",
    "- A domain user account (requires Power BI administrator permissions), or\n",
    "- A service principal (with permission to run admin APIs)\n",
    "\n",
    "**How data is being accessed:** The notebook uses:\n",
    "\n",
    "- Power BI Management Module for authentication: Connect-PowerBIServiceAccount\n",
    "- Power BI Management Module for extracting the activity log data: Get-PowerBIActivityEvent\n",
    "\n",
    "**Type of script**: Interactive, ad hoc (non-scheduled). This notebook is a guided learning experience to get familiar with how to query the activity log. It's not a production-ready script. This script accompanies the Auditing & Monitoring content found in the [Power BI Deployment and Governance](https://www.coatesds.com/power-bi-deployment-and-governance) course. \n",
    "\n",
    "More information, including prerequisites, is included at the bottom of this notebook."
   ],
   "metadata": {
    "azdata_cell_guid": "d6b85f37-9b57-4549-a2f2-927bbf49e438"
   }
  },
  {
   "cell_type": "markdown",
   "source": [
    "## **Log in to the Power BI Service**\n",
    "\n",
    "* * *\n",
    "\n",
    "**Input before executing:**\n",
    "\n",
    "- **Type of authentication:** \n",
    "    - **Line 2 - Choice for type of auth:** Input either '**User**' or '**User\\_MFA**' or '**SP**' without the quotes. This tells the script whether or not to log in as a user or a service principal.\n",
    "    \n",
    "    - - **User**: If multi-factor authentication is not enabled for the user account. The notebook will prompt you to type in your password.\n",
    "        - **User\\_MFA**: If multi-factor authentication is enabled for the user account. You'll be directed to a web browser to complete the login.\n",
    "        - **SP**: If you're using a service principal.\n",
    "- **If using user authentication:**\n",
    "    - **Line 3 - Email address:** Input the email address for the user. This user must be a Power BI administrator.\n",
    "- **If using service principal authentication:**\n",
    "    - **Line 4 - Azure AD app ID**: Input the app ID (aka client ID). \n",
    "    - **Line 5 - Azure tenant ID**: Input the tenant ID (aka directory ID).\n",
    "\n",
    "**Interactive prompts:**\n",
    "\n",
    "The script will interactively prompt you for the sensitive information (because hard-coding of passwords and secrets isn't secure):\n",
    "\n",
    "- **If using user authentication:**\n",
    "    - It will ask for the user's password.\n",
    "- **If using service principal authentication:**\n",
    "    - It will ask for the app secret.\n",
    "\n",
    "**Comments:**\n",
    "\n",
    "- This script uses the PowerShell cmdlet: [<u>Connect-PowerBIServiceAccount</u>](https://docs.microsoft.com/en-us/powershell/module/microsoftpowerbimgmt.profile/connect-powerbiserviceaccount).\n",
    "- After signing in, the access token is active for one hour.\n",
    "- If you belong to more than one tenant, add the Tenant parameter (to Connect-PowerBIServiceAccount) to specify a tenant ID when you log in."
   ],
   "metadata": {
    "language": "dotnet-interactive.pwsh",
    "azdata_cell_guid": "e543543d-5964-4f86-9916-33864487c416"
   }
  },
  {
   "cell_type": "code",
   "execution_count": null,
   "source": [
    "#-----------------INPUT AREA--------------------------------------------\r\n",
    "[string]$TypeOfAuth = 'User'  #Options: User --or-- User_MFA --or-- SP\r\n",
    "[string]$DomainUserEmailAddr = 'user@domain.com'\r\n",
    "[string]$AzureADAppID = ''\r\n",
    "[string]$AzureTenantID = ''\r\n",
    "#-----------------------------------------------------------------------\r\n",
    "\r\n",
    "if ($TypeOfAuth -eq 'User')\r\n",
    "{\r\n",
    "    Write-Verbose \"Domain user authentication will be used.\" -Verbose\r\n",
    "    [securestring]$DomainUserPW = Read-Host -Prompt \"Input password for $DomainUserEmailAddr\" -AsSecureString\r\n",
    "    [pscredential]$CredentialObj = New-Object System.Management.Automation.PSCredential($DomainUserEmailAddr, $DomainUserPW)  \r\n",
    "    Connect-PowerBIServiceAccount -Credential $CredentialObj\r\n",
    "}\r\n",
    "elseif ($TypeOfAuth -eq 'User_MFA')\r\n",
    "{\r\n",
    "    Write-Verbose \"Domain user with multi-factor authentication will be used.\" -Verbose\r\n",
    "    Connect-PowerBIServiceAccount\r\n",
    "}\r\n",
    "elseif ($TypeOfAuth -eq 'SP')\r\n",
    "{\r\n",
    "    Write-Verbose \"Service principal authentication will be used.\" -Verbose\r\n",
    "    [securestring]$AzureADAppSecret = Read-Host -Prompt \"Input secret for $AzureADAppID\" -AsSecureString\r\n",
    "    [pscredential]$CredentialObj = New-Object System.Management.Automation.PSCredential($AzureADAppID, $AzureADAppSecret)  \r\n",
    "    Connect-PowerBIServiceAccount -Credential $CredentialObj -ServicePrincipal -Tenant $AzureTenantID\r\n",
    "}\r\n",
    "else \r\n",
    "{\r\n",
    "    Write-Verbose \"There's a problem. The Type of Auth variable input was $TypeOfAuth. Expected values are User or SP.\" -Verbose\r\n",
    "}"
   ],
   "outputs": [],
   "metadata": {
    "azdata_cell_guid": "a5d752f5-7d23-492a-b3a2-22b24e26881a",
    "language": "dotnet-interactive.pwsh",
    "dotnet_interactive": {
     "language": "pwsh"
    }
   }
  },
  {
   "cell_type": "markdown",
   "source": [
    "## **Export Activity Log: All Activities, All Users, Up To 30 Days Back**\n",
    "\n",
    "* * *\n",
    "\n",
    "## <span style=\"font-size: 14px;\">This script will allow you to extract the raw data for all activity log data, for all users, up to a maximum of 30 days back. This is useful when you want to export the data so it can be viewed/used in other tools.</span>\n",
    "\n",
    "**Input before executing:**\n",
    "\n",
    "- **Line 2: Number of days to extract:** Data up to 30 days in the past may be retrieved.\n",
    "- **Line 3: Location where to export the files:** This folder must already exist.\n",
    "\n",
    "**Comments**:\n",
    "\n",
    "- **Cmdlet used:** This script uses the PowerShell cmdlet: [<u>Get-PowerBIActivityEvent</u>](https://docs.microsoft.com/en-us/powershell/module/microsoftpowerbimgmt.admin/get-powerbiactivityevent). \n",
    "- **One file per day:** It exports one JSON file per day (based on UTC time). Saving files, partitioned by day, is very useful when you want to store raw data over time. \n",
    "- **File name:** The format of the file name is: PBIActivityEvents-\\<DateOfEvents\\>-\\<DateTimeDataWasExtracted\\>.json - the suffix includes a datetime of when the extract was run is included so that if there are multiple executions of the same day, you know which one is newer (occasionally there are late-arriving events but that's not typically a big issue).\n",
    "- **File location**: For simplicity in this demo/training script, a local file path is used. When using this \"for real\" you want to retain the raw data permanently in a location that's secure and backed up. If you need to rely on the log files for formal security audits, store the files in an immutable location (so the files can't be altered or deleted),.\n",
    "- **Loop through range of time:** The range of time is specified with the first variable. It counts backwards from yesterday to determine how many days it should loop through. A maximum of one day is allowed to be extracted at once from the cmdlet (and its underlying API). That's why the loop runs once per day. \n",
    "- **Range of days:** The range will conclude with yesterday (UTC time). Today is intentionally ignored -- goal is to avoid having a partial day's worth of data in a file. (You might pull today's records in an ad hoc script, but not when exporting the data.)\n",
    "- **JSON file format:** The JSON format is used because, over time, new data elements will be introduced by Power BI. A flexible schema is necessary to accomodate that so that you don't miss when new types of data get added (i.e., you want to parse the JSON and retrieve what you're interested in \\*after\\* the raw data has been extracted, not during the data extraction). It is a best practice to store the raw data as-is, in an immutable location, so the data is reliable for auditing.\n",
    "- **Messages**: The verbose messages are displayed so you know where the script is at."
   ],
   "metadata": {
    "language": "dotnet-interactive.pwsh",
    "azdata_cell_guid": "4661638f-1e73-4693-b0a9-e6e067607c52"
   }
  },
  {
   "cell_type": "code",
   "execution_count": null,
   "source": [
    "#-----------------INPUT AREA-----------------\r\n",
    "[int32]$NbrDaysDaysToExtract = 15  #Maximum is 30 days back\r\n",
    "[string]$ExportFileLocation = 'C:\\Power-BI-Raw-Data\\Activity-Log'\r\n",
    "#--------------------------------------------\r\n",
    "\r\n",
    "[datetime]$YesterdayUTC = (([datetime]::Today.ToUniversalTime()).Date).AddDays(-1) #Begin with yesterday, rather than today, to ensure full day results are obtained\r\n",
    "[string]$DateTimeFileWrittenUTCLabel = ([datetime]::Now.ToUniversalTime()).ToString(\"yyyyMMddHHmm\")\r\n",
    "\r\n",
    "#Loop through each of the days to be extracted (<Initilize> ; <Condition> ; <Repeat>)\r\n",
    "for($Loop=0 ; $Loop -lt $NbrDaysDaysToExtract ; $Loop++)\r\n",
    "{\r\n",
    "    [datetime]$DateToExtractUTC=$YesterdayUTC.AddDays(-$Loop).ToString(\"yyyy-MM-dd\")\r\n",
    "\r\n",
    "    [string]$DateToExtractLabel=$DateToExtractUTC.ToString(\"yyyy-MM-dd\")\r\n",
    "    \r\n",
    "    [string]$ExportFileName = 'PBIActivityEvents-' + ($DateToExtractLabel -replace '-', '') + '-' + $DateTimeFileWrittenUTCLabel + '.json' \r\n",
    "\r\n",
    "    [psobject]$Events=Get-PowerBIActivityEvent -StartDateTime ($DateToExtractLabel+'T00:00:00.000') -EndDateTime ($DateToExtractLabel+'T23:59:59.999')\r\n",
    "  \r\n",
    "    $Events | Out-File \"$ExportFileLocation\\$ExportFileName\"\r\n",
    "\r\n",
    "    Write-Verbose \"File written: $ExportFileName\" -Verbose \r\n",
    "}\r\n",
    "Write-Verbose \"Extract of Power BI activity events is complete.\" -Verbose "
   ],
   "outputs": [],
   "metadata": {
    "language": "dotnet-interactive.pwsh",
    "azdata_cell_guid": "fb24fd7a-c957-429c-9872-55eab1b7dea6",
    "dotnet_interactive": {
     "language": "pwsh"
    }
   }
  },
  {
   "cell_type": "markdown",
   "source": [
    "## **Disconnect from the Power BI Service**\n",
    "\n",
    "* * *\n",
    "\n",
    "It's useful to add this at the end of automation scripts, as a matter of good housekeeping. If you don't log out (or refresh your access token), you'll be automatically disconnected after 1 hour."
   ],
   "metadata": {
    "language": "dotnet-interactive.pwsh",
    "azdata_cell_guid": "a89b6b3a-ca44-4321-904e-4314150912a6"
   }
  },
  {
   "cell_type": "code",
   "execution_count": null,
   "source": [
    "Disconnect-PowerBIServiceAccount"
   ],
   "outputs": [],
   "metadata": {
    "language": "dotnet-interactive.pwsh",
    "azdata_cell_guid": "e5da69e2-4b2a-4632-9edc-ea9486910dc6",
    "dotnet_interactive": {
     "language": "pwsh"
    }
   }
  },
  {
   "cell_type": "markdown",
   "source": [
    "## **More Information About This File**\n",
    "\n",
    "* * *\n",
    "\n",
    "## <span style=\"font-size:14px;\">Prerequisites for running this script:</span>\n",
    "\n",
    "- The [Power BI Management module](https://www.powershellgallery.com/packages/MicrosoftPowerBIMgmt) for PowerShell needs to be installed.\n",
    "    \n",
    "- The [.NET Interactive Notebooks](https://marketplace.visualstudio.com/items?itemName=ms-dotnettools.dotnet-interactive-vscode) extension needs to be installed and enabled in VS Code and/or Azure Data Studio.\n",
    "    \n",
    "- Either a user account with Power BI administrator permissions, or a service principal with permission to run admin APIs.\n",
    "    \n",
    "\n",
    "This script **interactively prompts** for the sensitive information to be passed into a credential object. Therefore, it's only useful for ad hoc purposes. A different technique is used for securely storing the credentials when a script is to be operationalized and scheduled.\n",
    "\n",
    "The original / most recent version of this notebook can be found on Melissa Coates' [Power-BI-Admin repository in GitHub](https://github.com/sqlchick/Power-BI-Admin)."
   ],
   "metadata": {
    "language": "dotnet-interactive.pwsh",
    "azdata_cell_guid": "3cd82352-fbb2-4bc1-9e8c-5df7f63c3806"
   }
  }
 ]
}