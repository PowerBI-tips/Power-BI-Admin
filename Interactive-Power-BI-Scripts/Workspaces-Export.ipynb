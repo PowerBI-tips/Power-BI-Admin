{
 "metadata": {
  "kernelspec": {
   "name": ".net-csharp",
   "display_name": ".NET (C#)",
   "language": "C#"
  },
  "language_info": {
   "name": "C#"
  }
 },
 "nbformat": 4,
 "nbformat_minor": 2,
 "cells": [
  {
   "cell_type": "markdown",
   "source": [
    "# Workspaces - Export Snapshot\n",
    "\n",
    "**Author**: Melissa Coates  \n",
    "\n",
    "**Last updated and tested**: August 22, 2022 \n",
    "\n",
    "**Purpose:** This notebook contains two examples to export workspace artifact metadata:\n",
    "\n",
    "- Example 1 - using the PowerShell cmdlet\n",
    "- Example 2 - using the API\n",
    "\n",
    "**Type of authentication**: You can log in with either:\n",
    "\n",
    "- A domain user account (requires Power BI administrator permissions), or\n",
    "- A service principal (with permission to run admin APIs)\n",
    "\n",
    "**How data is being accessed:** The notebook uses:\n",
    "\n",
    "- Both examples - Power BI Management Module for authentication: Connect-PowerBIServiceAccount\n",
    "- Example 1 - Power BI Management Module for extracting the workspace information: Get-PowerBIWorkspace\n",
    "- Example 2 - Power BI Management Module for calling the API: Invoke-PowerBIRestMethod --plus-- the Power BI Admin API: GetGroupsAsAdmin\n",
    "\n",
    "**Type of script**: Interactive, ad hoc (non-scheduled). This notebook is a guided learning experience to get familiar with how to query the workspace metadata. It's not production-ready. \n",
    "\n",
    "More information, including prerequisites, is included at the bottom of this notebook."
   ],
   "metadata": {
    "azdata_cell_guid": "d6b85f37-9b57-4549-a2f2-927bbf49e438"
   }
  },
  {
   "cell_type": "markdown",
   "source": [
    "## **Log in to the Power BI Service**\n",
    "---\n",
    "**Update before executing:**\n",
    "\n",
    "- **Type of authentication:** \n",
    "    - **Line 2 - Choice for type of auth:** Input either '**User**' or '**SP**' without the quotes. This tells the script whether or not to log in as a user or a service principal.\n",
    "- **If using user authentication:**\n",
    "    - **Line 3 - Email address:** Input the email address for the user. This user must be a Power BI administrator. MFA can't be enabled for this account.\n",
    "- **If using service principal authentication:**\n",
    "    - **Line 4 - Azure AD app ID**: Input the app ID (aka client ID). \n",
    "    - **Line 5 - Azure tenant ID**: Input the tenant ID (aka directory ID).\n",
    "\n",
    "**Interactive prompts:**\n",
    "\n",
    "The script will interactively prompt you for the sensitive information (because hard-coding of passwords and secrets isn't secure):\n",
    "\n",
    "- **If using user authentication:**\n",
    "    - It will ask for the user's password.\n",
    "- **If using service principal authentication:**\n",
    "    - It will ask for the app secret.\n",
    "\n",
    "**Comments:**\n",
    "\n",
    "- This script uses the PowerShell cmdlet: [<u>Connect-PowerBIServiceAccount</u>](https://docs.microsoft.com/en-us/powershell/module/microsoftpowerbimgmt.profile/connect-powerbiserviceaccount).\n",
    "- After signing in, the access token is active for one hour."
   ],
   "metadata": {
    "language": "dotnet-interactive.pwsh",
    "azdata_cell_guid": "e543543d-5964-4f86-9916-33864487c416"
   }
  },
  {
   "cell_type": "code",
   "execution_count": null,
   "source": [
    "#-----------------INPUT AREA-----------------\r\n",
    "[string]$TypeOfAuth = 'User'  #Options: User or SP\r\n",
    "[string]$DomainUserEmailAddr = 'user@domain.com'\r\n",
    "[string]$AzureADAppID = '1234-1234'\r\n",
    "[string]$AzureTenantID = '1234-1234'\r\n",
    "#--------------------------------------------\r\n",
    "\r\n",
    "if ($TypeOfAuth -eq 'User')\r\n",
    "{\r\n",
    "    Write-Verbose \"Domain user authentication will be used.\" -Verbose\r\n",
    "    [securestring]$DomainUserPW = Read-Host -Prompt \"Input password for $DomainUserEmailAddr\" -AsSecureString\r\n",
    "    [pscredential]$CredentialObj = New-Object System.Management.Automation.PSCredential($DomainUserEmailAddr, $DomainUserPW)  \r\n",
    "    Connect-PowerBIServiceAccount -Credential $CredentialObj\r\n",
    "}\r\n",
    "elseif ($TypeOfAuth -eq 'SP')\r\n",
    "{\r\n",
    "    Write-Verbose \"Service principal authentication will be used.\" -Verbose\r\n",
    "    [securestring]$AzureADAppSecret = Read-Host -Prompt \"Input secret for $AzureADAppID\" -AsSecureString\r\n",
    "    [pscredential]$CredentialObj = New-Object System.Management.Automation.PSCredential($AzureADAppID, $AzureADAppSecret)  \r\n",
    "    Connect-PowerBIServiceAccount -Credential $CredentialObj -ServicePrincipal -Tenant $AzureTenantID\r\n",
    "}\r\n",
    "else \r\n",
    "{\r\n",
    "    Write-Verbose \"There's a problem. The Type of Auth variable input was $TypeOfAuth. Expected values are User or SP.\" -Verbose\r\n",
    "}"
   ],
   "outputs": [],
   "metadata": {
    "azdata_cell_guid": "a5d752f5-7d23-492a-b3a2-22b24e26881a",
    "language": "dotnet-interactive.pwsh",
    "dotnet_interactive": {
     "language": "pwsh"
    }
   }
  },
  {
   "cell_type": "markdown",
   "source": [
    "## **Example 1 - Export Workspace Info with Artifacts: Using Cmdlet**\n",
    "---\n",
    "The next script will export the workspace metadata for the entire tenant, including the artifacts contained within the workspace. It's a snapshot as of a point in time.\n",
    "\n",
    "**Comments:**\n",
    "\n",
    "- **Cmdlet used:** This script uses the PowerShell cmdlet: [<u>Get-PowerBIWorkspace</u>](https://docs.microsoft.com/en-us/powershell/module/microsoftpowerbimgmt.workspaces/get-powerbiworkspace)\n",
    "- **Permissions required**: Power BI administrator permissions, or a service principal with permission to use read-only admin APIs, are required for the organization scope.\n",
    "\n",
    "**Update before executing:**\n",
    "\n",
    "- **Line 2 - Path for export file.** This folder needs to already exist."
   ],
   "metadata": {
    "language": "dotnet-interactive.pwsh",
    "azdata_cell_guid": "4bf9ebb1-4f93-4384-88ec-fa5439012feb"
   }
  },
  {
   "cell_type": "code",
   "execution_count": null,
   "source": [
    "#-----------------INPUT AREA-----------------\r\n",
    "[string]$ExportFileLocation = 'C:\\Power-BI-Raw-Data\\Workspace-Metadata'\r\n",
    "#--------------------------------------------\r\n",
    "\r\n",
    "[string]$DateTimeFileWrittenUTCLabel = ([datetime]::Now.ToUniversalTime()).ToString(\"yyyyMMddHHmm\")  #Snapshot date when data was extracted\r\n",
    "[string]$ExportFileName = 'AllWorkspaceMetadata-FromCmdlet-' + $DateTimeFileWrittenUTCLabel + '.json' #FromCmdlet in the name since the another example does the same thing using the API directly\r\n",
    "\r\n",
    "Get-PowerBIWorkspace -Scope Organization -Include All | ConvertTo-JSON -Depth 10 | Out-File \"$ExportFileLocation\\$ExportFileName\"\r\n",
    "\r\n",
    "Write-Verbose \"File written: $ExportFileName\" -Verbose"
   ],
   "outputs": [],
   "metadata": {
    "azdata_cell_guid": "bbbaa5d1-4863-450a-a88a-7ff9c401724a",
    "language": "dotnet-interactive.pwsh",
    "dotnet_interactive": {
     "language": "pwsh"
    }
   }
  },
  {
   "cell_type": "markdown",
   "source": [
    "## **Example 2 - Export Workspace Info with Artifacts: Using REST API Directly**\n",
    "---\n",
    "The next script is the same as the above - it exports the workspace metadata for the entire tenant, including the artifacts contained within the workspace. It's a snapshot as of a point in time.\n",
    "\n",
    "However, this script calls the admin 'Groups' REST API to get the data, instead of using the PowerShell cmdlet directly. \n",
    "\n",
    "**Comments:**\n",
    "\n",
    "- **API used:** This script uses the admin API: [<u>GetGroupsAsAdmin</u>](https://docs.microsoft.com/en-us/rest/api/power-bi/admin/groups-get-groups-as-admin).\n",
    "- **How API is called:** The API is called via the [<u>Invoke-PowerBIRestMethod</u>](https://docs.microsoft.com/en-us/powershell/module/microsoftpowerbimgmt.profile/invoke-powerbirestmethod) cmdlet from the Power BI Management Module. \n",
    "- **How the Power BI Management Module is being used:**\n",
    "    - Authentication (simpler than OAuth2 authentication).\n",
    "    - Calling the API (the Invoke-PowerBIRestMethod cmdlet is like a 'wrapper' around the API call).\n",
    "- **Permissions required**: Power BI administrator permissions, or a service principal with permission to use read-only admin APIs, are required for the organization scope.\n",
    "- **Types of artifacts included:** The $expand parameter specifies which objects are included.\n",
    "- **Encoding of the URL:** The %24 shown in the URL is because the $ sign is reserved by PowerShell for variables & parameters. For this reason, the $ sign needs to be replaced in PowerShell scripts with a %24. The URL knows that it represents the $ character. Note that HTPP examples shown online will show the $.\n",
    "\n",
    "**Update before executing:**\n",
    "\n",
    "- **Line 2 - Path for export file.** This folder needs to already exist."
   ],
   "metadata": {
    "language": "dotnet-interactive.pwsh",
    "azdata_cell_guid": "b328cd88-a6f4-447c-b28a-0c04c26ca60b"
   }
  },
  {
   "cell_type": "code",
   "execution_count": null,
   "source": [
    "#-----------------INPUT AREA-----------------\r\n",
    "[string]$ExportFileLocation = 'C:\\Power-BI-Raw-Data\\Workspace-Metadata'\r\n",
    "#--------------------------------------------\r\n",
    "\r\n",
    "[int32]$NbrOfRecordsToFetchPerBatch = 1000 \r\n",
    "[int32]$NbrOfRecordsToSkip = 0 \r\n",
    "\r\n",
    "[string]$DateTimeFileWrittenUTCLabel = ([datetime]::Now.ToUniversalTime()).ToString(\"yyyyMMddHHmm\")  #Snapshot date when data was extracted\r\n",
    "[string]$ExportFileName = 'AllWorkspaceMetadata-FromAPI-' + $DateTimeFileWrittenUTCLabel + '.json' #FromAPI in the name since the previous example did the same thing using the cmdlet\r\n",
    "\r\n",
    "[string]$URL = \"https://api.powerbi.com/v1.0/myorg/admin/Groups?%24top=$NbrOfRecordsToFetchPerBatch&%24skip=$NbrOfRecordsToSkip&%24expand=datasets,dataflows,reports,dashboards,workbooks,users\"\r\n",
    "\r\n",
    "Invoke-PowerBIRestMethod -Url $URL -Method GET | Out-File \"$ExportFileLocation\\$ExportFileName\"\r\n",
    "\r\n",
    "Write-Verbose \"File written: $ExportFileName\" -Verbose"
   ],
   "outputs": [],
   "metadata": {
    "azdata_cell_guid": "ac926d19-e6f1-4879-8ba9-dbf4b34570cf",
    "language": "dotnet-interactive.pwsh",
    "dotnet_interactive": {
     "language": "pwsh"
    }
   }
  },
  {
   "cell_type": "markdown",
   "source": [
    "## **Observations**\n",
    "\n",
    "* * *\n",
    "\n",
    "When you compare the two files that were exported:\n",
    "\n",
    "- **Readability**: The data exported from the cmdlet is formatted with line breaks, so it's more human readable than the data exported from the REST API.\n",
    "- **Data**: If new data is made available, it'll be available in the API before it's available to the cmdlet. \n",
    "- **Use of PowerShell Modules:** In the 2nd example above, the PowerShell Management Module is only used for authentication and to call the APIs. By using the Invoke-PowerBIRestMethod cmdlet, you don't have to build the body and the headers. Authentication is easier, and calling the API is easier. \n",
    "- **Tool/Language Flexibility**: Many organizations choose to call the APIs directly even if a cmdlet is available. This gives them flexibility to change tools or languages over time, and reduces their dependency on the PowerShell Management Module.\n",
    "\n",
    "Large tenants:\n",
    "\n",
    "- The GetGroupsAsAdmin API has a [<u>maximum # of requests per hour</u>](https://docs.microsoft.com/en-us/rest/api/power-bi/admin/groups-get-groups-as-admin#limitations). \n",
    "- In a large tenant with a lot of data, it's much more efficient to use the [<u>Scanner APIs</u>](https://docs.microsoft.com/en-us/power-bi/enterprise/service-admin-metadata-scanning) instead.\n",
    "- Consider the above to be a learning exercise. If your tenant is a large one, convert to using the Scanner APIs before you operationalize and schedule your scripts."
   ],
   "metadata": {
    "azdata_cell_guid": "9a863d66-ed65-42c8-abc1-bf8a1d4ff196"
   }
  },
  {
   "cell_type": "markdown",
   "source": [
    "## **More Information About This File**  \n",
    "---\n",
    "## <span style=\"font-size: 14px;\">Prerequisites for running this script:</span>  \n",
    "\n",
    "- The [Power BI Management module](https://www.powershellgallery.com/packages/MicrosoftPowerBIMgmt) for PowerShell needs to be installed.\n",
    "    \n",
    "- The [.NET Interactive Notebooks](https://marketplace.visualstudio.com/items?itemName=ms-dotnettools.dotnet-interactive-vscode) extension needs to be installed and enabled in VS Code and/or Azure Data Studio.\n",
    "    \n",
    "- Either a user account with Power BI administrator permissions, or a service principal.\n",
    "    \n",
    "\n",
    "This script **interactively prompts** for the sensitive information to be passed into a credential object. Therefore, it's only useful for ad hoc purposes. A different technique is used for securely storing the credentials when a script is to be operationalized and scheduled.\n",
    "\n",
    "The original / most recent version of this notebook can be found on Melissa Coates' [Power-BI-Admin repository in GitHub](https://github.com/sqlchick/Power-BI-Admin)."
   ],
   "metadata": {
    "language": "dotnet-interactive.pwsh",
    "azdata_cell_guid": "9a4e2b5e-10e8-4ba3-85aa-353e2ebf432c"
   }
  }
 ]
}