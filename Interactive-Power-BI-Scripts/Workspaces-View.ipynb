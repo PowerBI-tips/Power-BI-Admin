{
 "metadata": {
  "kernelspec": {
   "name": ".net-csharp",
   "display_name": ".NET (C#)",
   "language": "C#"
  },
  "language_info": {
   "name": "C#"
  }
 },
 "nbformat": 4,
 "nbformat_minor": 2,
 "cells": [
  {
   "cell_type": "markdown",
   "source": [
    "# Workspaces - View\n",
    "\n",
    "**Author**: Melissa Coates  \n",
    "\n",
    "**Last updated and tested**: August 22, 2022 \n",
    "\n",
    "**Purpose:** This notebook contains a few ad hoc scripts to view Power BI workspace information:\n",
    "\n",
    "- View a list of workspaces - user scope\n",
    "- View a list of workspaces - organization scope\n",
    "- View workspace info with artifiacts - organization scope\n",
    "\n",
    "**Type of authentication**: You can log in with either:\n",
    "\n",
    "- A domain user account (requires Power BI administrator permissions if using the organization scope), or\n",
    "- A service principal (with permission to run admin APIs)\n",
    "\n",
    "**How data is being accessed:** The notebook uses:\n",
    "\n",
    "- Power BI Management Module for authentication: Connect-PowerBIServiceAccount\n",
    "- Power BI Management Module for extracting the workspace information: Get-PowerBIWorkspace\n",
    "\n",
    "**Type of script**: Interactive, ad hoc (non-scheduled). This notebook is a guided learning experience to get familiar with how to query the workspace metadata. It's not production-ready.\n",
    "\n",
    "This notebook is not designed to do a 'Run all.' Rather, it's designed to be run cell-by-cell, based on the scenario. More information, including prerequisites, is included at the bottom of this notebook."
   ],
   "metadata": {
    "azdata_cell_guid": "d6b85f37-9b57-4549-a2f2-927bbf49e438"
   }
  },
  {
   "cell_type": "markdown",
   "source": [
    "## **Log in to the Power BI Service**\n",
    "---\n",
    "**Update before executing:**\n",
    "\n",
    "- **Type of authentication:** \n",
    "    - **Line 2 - Choice for type of auth:** Input either '**User**' or '**SP**' without the quotes. This tells the script whether or not to log in as a user or a service principal.\n",
    "- **If using user authentication:**\n",
    "    - **Line 3 - Email address:** Input the email address for the user. This user must be a Power BI administrator. MFA can't be enabled for this account.\n",
    "- **If using service principal authentication:**\n",
    "    - **Line 4 - Azure AD app ID**: Input the app ID (aka client ID). \n",
    "    - **Line 5 - Azure tenant ID**: Input the tenant ID (aka directory ID).\n",
    "\n",
    "**Interactive prompts:**\n",
    "\n",
    "The script will interactively prompt you for the sensitive information (because hard-coding of passwords and secrets isn't secure):\n",
    "\n",
    "- **If using user authentication:**\n",
    "    - It will ask for the user's password.\n",
    "- **If using service principal authentication:**\n",
    "    - It will ask for the app secret.\n",
    "\n",
    "**Comments:**\n",
    "\n",
    "- This script uses the PowerShell cmdlet: [<u>Connect-PowerBIServiceAccount</u>](https://docs.microsoft.com/en-us/powershell/module/microsoftpowerbimgmt.profile/connect-powerbiserviceaccount).\n",
    "- After signing in, the access token is active for one hour."
   ],
   "metadata": {
    "language": "dotnet-interactive.pwsh",
    "azdata_cell_guid": "e543543d-5964-4f86-9916-33864487c416"
   }
  },
  {
   "cell_type": "code",
   "execution_count": null,
   "source": [
    "#-----------------INPUT AREA-----------------\r\n",
    "[string]$TypeOfAuth = 'User'  #Options: User or SP\r\n",
    "[string]$DomainUserEmailAddr = 'user@domain.com'\r\n",
    "[string]$AzureADAppID = '1234-1234'\r\n",
    "[string]$AzureTenantID = '1234-1234'\r\n",
    "#--------------------------------------------\r\n",
    "\r\n",
    "if ($TypeOfAuth -eq 'User')\r\n",
    "{\r\n",
    "    Write-Verbose \"Domain user authentication will be used.\" -Verbose\r\n",
    "    [securestring]$DomainUserPW = Read-Host -Prompt \"Input password for $DomainUserEmailAddr\" -AsSecureString\r\n",
    "    [pscredential]$CredentialObj = New-Object System.Management.Automation.PSCredential($DomainUserEmailAddr, $DomainUserPW)  \r\n",
    "    Connect-PowerBIServiceAccount -Credential $CredentialObj\r\n",
    "}\r\n",
    "elseif ($TypeOfAuth -eq 'SP')\r\n",
    "{\r\n",
    "    Write-Verbose \"Service principal authentication will be used.\" -Verbose\r\n",
    "    [securestring]$AzureADAppSecret = Read-Host -Prompt \"Input secret for $AzureADAppID\" -AsSecureString\r\n",
    "    [pscredential]$CredentialObj = New-Object System.Management.Automation.PSCredential($AzureADAppID, $AzureADAppSecret)  \r\n",
    "    Connect-PowerBIServiceAccount -Credential $CredentialObj -ServicePrincipal -Tenant $AzureTenantID\r\n",
    "}\r\n",
    "else \r\n",
    "{\r\n",
    "    Write-Verbose \"There's a problem. The Type of Auth variable input was $TypeOfAuth. Expected values are User or SP.\" -Verbose\r\n",
    "}"
   ],
   "outputs": [],
   "metadata": {
    "azdata_cell_guid": "a5d752f5-7d23-492a-b3a2-22b24e26881a",
    "language": "dotnet-interactive.pwsh",
    "dotnet_interactive": {
     "language": "pwsh"
    }
   }
  },
  {
   "cell_type": "markdown",
   "source": [
    "## **View Workspace Info: User Scope**  \n",
    "---\n",
    "## <span style=\"font-size: 14px;\">The next script will allow you to view a list of workspaces, based on permissions for the signed-in user or service principal. This is useful when you're looking for a list of workspaces you have access to.</span>  \n",
    "\n",
    "**Comments:**\n",
    "\n",
    "- **Cmdlet used:** This script uses the PowerShell cmdlet: [<u>Get-PowerBIWorkspace</u>](https://docs.microsoft.com/en-us/powershell/module/microsoftpowerbimgmt.workspaces/get-powerbiworkspace).\n",
    "- The first few results are shown, to avoid returning too much data."
   ],
   "metadata": {
    "language": "dotnet-interactive.pwsh",
    "azdata_cell_guid": "cc6d86bb-ef3e-47e1-aeb5-947575330afe"
   }
  },
  {
   "cell_type": "code",
   "execution_count": null,
   "source": [
    "Get-PowerBIWorkspace  -First 5"
   ],
   "outputs": [],
   "metadata": {
    "language": "dotnet-interactive.pwsh",
    "azdata_cell_guid": "28e1313c-8f3f-4352-b239-77363d48e72b",
    "dotnet_interactive": {
     "language": "pwsh"
    },
    "tags": []
   }
  },
  {
   "cell_type": "markdown",
   "source": [
    "## **View Workspace Info: Organization Scope**\n",
    "\n",
    "* * *\n",
    "\n",
    "## <span style=\"font-size: 14px;\">The next scripts will allow you to view a list of workspaces in the entire tenant.</span>\n",
    "\n",
    "**Comments:**\n",
    "\n",
    "- **Cmdlet used:** This script uses the PowerShell cmdlet: [<u>Get-PowerBIWorkspace</u>](https://docs.microsoft.com/en-us/powershell/module/microsoftpowerbimgmt.workspaces/get-powerbiworkspace)\n",
    "- **Permissions required**: Power BI administrator permissions, or a service principal with permission to use read-only admin APIs, are required for the organization scope\n",
    "- Note that when run with the organization scope, more attributes are available, including the user workspace access rights.\n",
    "- The first few results are shown, to avoid returning too much data. (See the Workspaces-Export notebook instead, which is easier to use for large tenant with a lot of workspaces.)"
   ],
   "metadata": {
    "language": "dotnet-interactive.pwsh",
    "azdata_cell_guid": "c11f5c78-61e2-4b6b-bf70-392495ee75e3"
   }
  },
  {
   "cell_type": "code",
   "execution_count": null,
   "source": [
    "Get-PowerBIWorkspace -Scope Organization -First 2"
   ],
   "outputs": [],
   "metadata": {
    "language": "dotnet-interactive.pwsh",
    "azdata_cell_guid": "0ada2e38-56f6-441b-8df4-2b8b91142bdd",
    "dotnet_interactive": {
     "language": "pwsh"
    }
   }
  },
  {
   "cell_type": "markdown",
   "source": [
    "### **Active workspaces**\n",
    "\n",
    "The next script will return active workspaces. It also reformats the results and displays only 3 columns.\n",
    "\n",
    "The first few results are shown, to avoid returning too much data. (See the Workspaces-Export notebook instead, which is easier to use for large tenant with a lot of workspaces.)"
   ],
   "metadata": {
    "language": "dotnet-interactive.pwsh",
    "azdata_cell_guid": "4e190d85-8bdd-4359-ab92-c50e63bc605f"
   }
  },
  {
   "cell_type": "code",
   "execution_count": null,
   "source": [
    "Get-PowerBIWorkspace -Scope Organization -First 3 | Where-Object State -eq 'Active' | Format-Table Name, Type, IsOnDedicatedCapacity"
   ],
   "outputs": [],
   "metadata": {
    "language": "dotnet-interactive.pwsh",
    "azdata_cell_guid": "e57f84e3-3cc5-4f18-ac24-7f763cd5a1e0",
    "dotnet_interactive": {
     "language": "pwsh"
    }
   }
  },
  {
   "cell_type": "markdown",
   "source": [
    "### **Orphaned workspaces**\n",
    "\n",
    "The next script will find orphaned workspaces (a workspace without a workspace administrator assigned)."
   ],
   "metadata": {
    "language": "dotnet-interactive.pwsh",
    "azdata_cell_guid": "93a89756-c9d9-4bb3-bb2a-7cb0f2d52498"
   }
  },
  {
   "cell_type": "code",
   "execution_count": null,
   "source": [
    "Get-PowerBIWorkspace -Scope Organization -Orphaned"
   ],
   "outputs": [],
   "metadata": {
    "language": "dotnet-interactive.pwsh",
    "azdata_cell_guid": "0665e78b-e0d9-49dd-81d7-68c42395462e",
    "dotnet_interactive": {
     "language": "pwsh"
    }
   }
  },
  {
   "cell_type": "markdown",
   "source": [
    "### **Deleted workspaces**\n",
    "\n",
    "The next script will find workspaces that have been deleted by a workspace administrator, but haven't yet been fully removed by the Power BI service. If the deletion was done in error, they can be restored (using the Restore-PowerBIWorkspace cmdlet)."
   ],
   "metadata": {
    "language": "dotnet-interactive.pwsh",
    "azdata_cell_guid": "f3e76dfd-3e6e-467b-b644-1a05bac9fadf"
   }
  },
  {
   "cell_type": "code",
   "execution_count": null,
   "source": [
    "Get-PowerBIWorkspace -Scope Organization -Deleted"
   ],
   "outputs": [],
   "metadata": {
    "language": "dotnet-interactive.pwsh",
    "azdata_cell_guid": "769acd64-7775-4ffb-9c8b-367879e42549",
    "dotnet_interactive": {
     "language": "pwsh"
    }
   }
  },
  {
   "cell_type": "markdown",
   "source": [
    "### **Number of workspaces in the tenant**"
   ],
   "metadata": {
    "language": "dotnet-interactive.pwsh",
    "azdata_cell_guid": "e076bdea-bd9b-4c47-8718-53d0c71325e1"
   }
  },
  {
   "cell_type": "code",
   "execution_count": null,
   "source": [
    "$workspaces = Get-PowerBIWorkspace -Scope Organization \r\n",
    "Write-Verbose \"The total number of Power BI workspaces in the tenant: $($workspaces.count)\" -Verbose "
   ],
   "outputs": [],
   "metadata": {
    "language": "dotnet-interactive.pwsh",
    "azdata_cell_guid": "44200fac-4b36-4af0-9c27-64c8b0704c8b",
    "dotnet_interactive": {
     "language": "pwsh"
    }
   }
  },
  {
   "cell_type": "code",
   "execution_count": null,
   "source": [
    "$workspaces = Get-PowerBIWorkspace -Scope Organization | Where-Object State -eq 'Active' \r\n",
    "Write-Verbose \"The number of active Power BI workspaces in the tenant: $($workspaces.count)\" -Verbose "
   ],
   "outputs": [],
   "metadata": {
    "language": "dotnet-interactive.pwsh",
    "azdata_cell_guid": "a15af12f-0d18-4398-b483-3730cbbe861c",
    "dotnet_interactive": {
     "language": "pwsh"
    }
   }
  },
  {
   "cell_type": "markdown",
   "source": [
    "## **View Workspace Info with Artifacts: Organization Scope**  \n",
    "---\n",
    "## <span style=\"font-size: 14px;\">The next scripts will allow you to view a list of workspaces in the entire tenant, as well as a list of the artifacts within the workspace.</span>  \n",
    "\n",
    "**Comments:**\n",
    "\n",
    "- **Cmdlet used:** This script uses the PowerShell cmdlet: [<u>Get-PowerBIWorkspace</u>](https://docs.microsoft.com/en-us/powershell/module/microsoftpowerbimgmt.workspaces/get-powerbiworkspace)\n",
    "- **Permissions required**: Power BI administrator permissions, or a service principal with permission to use read-only admin APIs, are required for the organization scope\n",
    "- Note that when run with the organization scope, more attributes are available, including the user workspace access rights."
   ],
   "metadata": {
    "language": "dotnet-interactive.pwsh",
    "azdata_cell_guid": "4bf9ebb1-4f93-4384-88ec-fa5439012feb"
   }
  },
  {
   "cell_type": "markdown",
   "source": [
    "### **List of reports**\n",
    "\n",
    "First, check how report results are returned (using the [<u>Get-PowerBIReport</u>](https://docs.microsoft.com/en-us/powershell/module/microsoftpowerbimgmt.reports/get-powerbireport) cmdlet). Note that the results don't explicitly state which workspace the report is in.\n",
    "\n",
    "The first few results are shown, to avoid returning too much data. (See the Workspaces-Export notebook instead, which is easier to use for large tenant with a lot of content.)"
   ],
   "metadata": {
    "language": "dotnet-interactive.pwsh",
    "azdata_cell_guid": "53588d9d-29ee-4b64-8513-9f9ec9109cee"
   }
  },
  {
   "cell_type": "code",
   "execution_count": null,
   "source": [
    "Get-PowerBIReport -Scope Organization -First 2"
   ],
   "outputs": [],
   "metadata": {
    "language": "dotnet-interactive.pwsh",
    "azdata_cell_guid": "3726097b-36de-4195-9dce-b44f5df1952d",
    "dotnet_interactive": {
     "language": "pwsh"
    }
   }
  },
  {
   "cell_type": "markdown",
   "source": [
    "### **List of reports for one workspace**\n",
    "\n",
    "Instead, use the Get-PowerBIWorkspace cmdlet. With the -Include parameter, specify that we want to see a list of reports. This way, we have more clear information.\n",
    "\n",
    "**Update before executing:**\n",
    "\n",
    "- **Line 2 - workspace name** (used so the list of results is short)\n",
    "\n",
    "**Comments**:\n",
    "\n",
    "- The first information returned is the workspace info. After that, a JSON array \\[ \\] of reports is listed.\n",
    "- The dashboards, datasets, dataflows, and workbooks arrays are null because we didn't ask for that data."
   ],
   "metadata": {
    "language": "dotnet-interactive.pwsh",
    "azdata_cell_guid": "25da9515-59ce-442d-81e3-7199cbeb5fde"
   }
  },
  {
   "cell_type": "code",
   "execution_count": null,
   "source": [
    "#-----------------INPUT AREA-----------------\r\n",
    "$WorkspaceName = 'Sales Analytics'\r\n",
    "#--------------------------------------------\r\n",
    "\r\n",
    "Get-PowerBIWorkspace -Scope Organization -Name $WorkspaceName -Include Reports | ConvertTo-JSON -Depth 10"
   ],
   "outputs": [],
   "metadata": {
    "language": "dotnet-interactive.pwsh",
    "azdata_cell_guid": "9889fbd7-8dd3-4a54-ac54-8f8e498383cd",
    "dotnet_interactive": {
     "language": "pwsh"
    }
   }
  },
  {
   "cell_type": "markdown",
   "source": [
    "### **List of reports for one workspace**\n",
    "\n",
    "With the -Include parameter, specify that we want to see all artifacts. \n",
    "\n",
    "**Update before executing:**\n",
    "\n",
    "- **Line 2 - workspace name** (used so the list of results is short)\n",
    "\n",
    "**Comments**:\n",
    "\n",
    "- The first information returned is the workspace info. After that, a JSON array \\[ \\] of reports is listed, followed by dashboards, datasets, dataflows, and workbooks."
   ],
   "metadata": {
    "language": "dotnet-interactive.csharp",
    "azdata_cell_guid": "bdc529cb-a3ed-4289-a0e0-4576e1a3cc0f"
   }
  },
  {
   "cell_type": "code",
   "execution_count": null,
   "source": [
    "#-----------------INPUT AREA-----------------\r\n",
    "$WorkspaceName = 'Sales Analytics'\r\n",
    "#--------------------------------------------\r\n",
    "\r\n",
    "Get-PowerBIWorkspace -Scope Organization -Name $WorkspaceName -Include All | ConvertTo-JSON -Depth 10"
   ],
   "outputs": [],
   "metadata": {
    "azdata_cell_guid": "e195725d-b30d-4e2f-a003-ffac057f051c",
    "language": "dotnet-interactive.pwsh",
    "dotnet_interactive": {
     "language": "pwsh"
    }
   }
  },
  {
   "cell_type": "markdown",
   "source": [
    "## **Observations**\n",
    "---\n",
    "The above technique is good for obtaining information about what's in your tenant. However, in a large tenant with a lot of data, it's much more efficient to use the [<u>Scanner APIs</u>](https://docs.microsoft.com/en-us/power-bi/enterprise/service-admin-metadata-scanning) instead."
   ],
   "metadata": {
    "azdata_cell_guid": "d1ff8b11-df1d-4de5-bc3f-bf2eec2ad90c"
   }
  },
  {
   "cell_type": "markdown",
   "source": [
    "## **More Information About This File**\n",
    "\n",
    "* * *\n",
    "\n",
    "## <span style=\"font-size:14px;\">Prerequisites for running this script:</span>\n",
    "\n",
    "- The [Power BI Management module](https://www.powershellgallery.com/packages/MicrosoftPowerBIMgmt) for PowerShell needs to be installed.\n",
    "    \n",
    "- The [.NET Interactive Notebooks](https://marketplace.visualstudio.com/items?itemName=ms-dotnettools.dotnet-interactive-vscode) extension needs to be installed and enabled in VS Code and/or Azure Data Studio.\n",
    "    \n",
    "- Either a user account with Power BI administrator permissions, or a service principal.\n",
    "    \n",
    "\n",
    "This script **interactively prompts** for the sensitive information to be passed into a credential object. Therefore, it's only useful for ad hoc purposes. A different technique is used for securely storing the credentials when a script is to be operationalized and scheduled.\n",
    "\n",
    "The original / most recent version of this notebook can be found on Melissa Coates' [Power-BI-Admin repository in GitHub](https://github.com/sqlchick/Power-BI-Admin)."
   ],
   "metadata": {
    "language": "dotnet-interactive.pwsh",
    "azdata_cell_guid": "9a4e2b5e-10e8-4ba3-85aa-353e2ebf432c"
   }
  }
 ]
}