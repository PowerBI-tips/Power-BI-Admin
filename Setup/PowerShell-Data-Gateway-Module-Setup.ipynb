{
 "metadata": {
  "kernelspec": {
   "name": ".net-csharp",
   "display_name": ".NET (C#)",
   "language": "C#"
  },
  "language_info": {
   "name": "C#"
  }
 },
 "nbformat": 4,
 "nbformat_minor": 2,
 "cells": [
  {
   "cell_type": "markdown",
   "source": [
    "# Set Up the Data Gateway Module\n",
    "\n",
    "**Author**: Melissa Coates  \n",
    "\n",
    "**Last updated and tested**: August 20, 2022 \n",
    "\n",
    "**Purpose**: Check and install PowerShell cmdlets for the Data Gateway module. Includes:\n",
    "\n",
    "- Check if the Data Gateway Module is installed\n",
    "- If you want to uninstall & reinstall newest version:\n",
    "    - Uninstall existing modules\n",
    "    - Install the newest modules\n",
    "- Or, if you prefer instead to add the newest version and run multiple versions side-by-side:\n",
    "    - Update (install) the newest modules)\n",
    "\n",
    "**PowerShell Gallery source:** [<u>https://www.powershellgallery.com/packages/DataGateway</u>](https://www.powershellgallery.com/packages/DataGateway)\n",
    "\n",
    "**Module published by**: Microsoft\n",
    "\n",
    "**Requirements:**\n",
    "\n",
    "- Module installations and updates need to be executed by an administrator (i.e., an elevated session). This is handled within each code block below.\n",
    "- [PowerShellGet](https://docs.microsoft.com/en-us/powershell/module/powershellget) is used to manage module installations.\n",
    "- The Data Gateway module only supports PowerShell 7 and above. They cannot be used with Windows PowerShell / the Windows ISE (because it only runs on PowerShell 5.1). You need to be running PowerShell Core in order to use the Data Gateway module."
   ],
   "metadata": {
    "azdata_cell_guid": "eb8e2c30-0a95-4add-b2cf-d9b7ced0c46b"
   }
  },
  {
   "cell_type": "markdown",
   "source": [
    "## **Check version of PowerShell that's running**\n",
    "---\n",
    "First, need to check if you're running PowerShell Core. Ensure the PSVersion is at least 7.0."
   ],
   "metadata": {
    "azdata_cell_guid": "39907070-39af-4db9-8034-188ac87854ec"
   }
  },
  {
   "cell_type": "code",
   "execution_count": null,
   "source": [
    "$PSVersionTable"
   ],
   "outputs": [],
   "metadata": {
    "azdata_cell_guid": "1ebdc693-4086-40d3-aee8-875db96e1ce8",
    "language": "dotnet-interactive.pwsh",
    "dotnet_interactive": {
     "language": "pwsh"
    }
   }
  },
  {
   "cell_type": "markdown",
   "source": [
    "## **Check if the Data Gateway Module is currently installed**\n",
    "---\n",
    "## <span style=\"font-size: 14px;\">The next script will verify which modules are currently installed, and which verion(s).&nbsp;</span>   \n",
    "\n",
    "Compare the latest version you have with what's available in the [PowerShell Gallery](https://www.powershellgallery.com/packages/DataGateway). (See script later in this notebook to update if necessary.)"
   ],
   "metadata": {
    "azdata_cell_guid": "46f1c27a-6194-4eda-b4e7-875b0a0e1245"
   }
  },
  {
   "cell_type": "code",
   "execution_count": null,
   "source": [
    "Get-InstalledModule -Name DataGateway*"
   ],
   "outputs": [],
   "metadata": {
    "azdata_cell_guid": "faf32375-ce6b-48bf-abef-a1839d9eb54b",
    "language": "dotnet-interactive.pwsh",
    "dotnet_interactive": {
     "language": "pwsh"
    }
   }
  },
  {
   "cell_type": "markdown",
   "source": [
    "The next script checks the path where the modules are installed. \n",
    "\n",
    "Note about older modules: Pay attention to the path you see. We're using PowerShell Core. If you see Windows PowerShell in the paths here, and you want to delete those older modules, the easiest way to delete them is using the Windows ISE for PowerShell instead (because that'll be running Windows 5.1). If you intend to still use the ISE for certain things, it's ok to leave them as-is."
   ],
   "metadata": {
    "language": "dotnet-interactive.pwsh",
    "azdata_cell_guid": "904dd1fc-8172-4abb-91b5-be65a719f776"
   }
  },
  {
   "cell_type": "code",
   "execution_count": null,
   "source": [
    "(Get-Module -ListAvailable DataGateway*).path "
   ],
   "outputs": [],
   "metadata": {
    "language": "dotnet-interactive.pwsh",
    "azdata_cell_guid": "c9359fa2-6936-4fec-98a5-bd35bf2c697d",
    "dotnet_interactive": {
     "language": "pwsh"
    }
   }
  },
  {
   "cell_type": "markdown",
   "source": [
    "## **Uninstall the existing modules _(optional)_**\n",
    "---\n",
    "## <span style=\"font-size: 14px;\">If applicable, delete the existing Data Gateway modules that are installed. This is useful if you've accumulated a lot of versions.</span>  \n",
    "\n",
    "IMPORTANT: Installing or updating modules using PowerShellGet does NOT remove older versions that may exist on your system. It's ok for them to co-exist, but it can also get a little out of control. Unless you have a specific need for compatibility with an older version, it's usually ok to delete older modules and reinstall the newest one.\n",
    "\n",
    "You can uninstall all versions, or it can be changed to a specific version if you prefer.\n",
    "\n",
    "**Update before executing:**\n",
    "\n",
    "- Remove the comment blocks  (\\<#  #\\>). These are included to minimize risk if someone were to 'Run all' on this notebook.\n",
    "\n",
    "**When the script has finished:**\n",
    "\n",
    "- Check again what's installed (using the first script at the top).\n",
    "- Put the comment blocks back in, to minimize risk."
   ],
   "metadata": {
    "language": "dotnet-interactive.pwsh",
    "azdata_cell_guid": "48bafee5-21d1-44b2-9af8-a9cb45a0a17b"
   }
  },
  {
   "cell_type": "code",
   "execution_count": null,
   "source": [
    "#This script requires elevated permissions:\r\n",
    "#Requires -RunAsAdministrator  \r\n",
    "\r\n",
    "<#\r\n",
    "#Uninstall all versions:\r\n",
    "Uninstall-Module DataGateway -AllVersions -Force\r\n",
    "Uninstall-Module MicrosoftPowerBIMgmt.Profile -AllVersions  -Force  #Uninstall last due to dependencies\r\n",
    "#>"
   ],
   "outputs": [],
   "metadata": {
    "language": "dotnet-interactive.pwsh",
    "azdata_cell_guid": "f04dc9db-37e7-410e-8a2f-1ea8b5c34e0f",
    "dotnet_interactive": {
     "language": "pwsh"
    }
   }
  },
  {
   "cell_type": "markdown",
   "source": [
    "## **Install the Data Gateway Module**  \n",
    "---\n",
    "## <span style=\"font-size: 14px;\">Use the next script to install the Data Gateway module.</span>  \n",
    "\n",
    "**Update before executing:**\n",
    "\n",
    "- Remove the comment blocks  (\\<#  #\\>). These are included to minimize risk if someone were to 'Run all' on this notebook.\n",
    "\n",
    "**When the script has finished:**\n",
    "\n",
    "- Check again what's installed (using the first script at the top).\n",
    "- Put the comment blocks back in, to minimize risk."
   ],
   "metadata": {
    "language": "dotnet-interactive.pwsh",
    "azdata_cell_guid": "f462f786-ea2a-4024-bf56-d9dbcd77531c"
   }
  },
  {
   "cell_type": "code",
   "execution_count": null,
   "source": [
    "#This script requires elevated permissions:\r\n",
    "#Requires -RunAsAdministrator\r\n",
    "\r\n",
    "<#\r\n",
    "Install-Module -Name DataGateway -Force\r\n",
    "#>"
   ],
   "outputs": [],
   "metadata": {
    "azdata_cell_guid": "f42dc2dd-4ff6-48af-87e3-928406c6567d",
    "language": "dotnet-interactive.pwsh",
    "dotnet_interactive": {
     "language": "pwsh"
    }
   }
  },
  {
   "cell_type": "markdown",
   "source": [
    "## **Update the Data Gateway Module**  \n",
    "---\n",
    "## <span style=\"font-size: 14px;\">In most cases, you won't need the next script. If the modules were previously installed, AND you also want to retain the previous version as well, you can use the next script to install the newest version. Note that the older version is NOT automatically removed - i.e., it's not an in-place update. Rather, it's a side-by-side installation to add the latest version. This is done if you want to ensure backwards compatibility. If you don't intend to specify the module version in any of your scripts, then you probably don't need to run side-by-side versions.</span>  \n",
    "\n",
    "**Update before executing:**\n",
    "\n",
    "- Remove the comment blocks  (\\<#  #\\>). These are included to minimize risk if someone were to 'Run all' on this notebook.\n",
    "\n",
    "**When the script has finished:**\n",
    "\n",
    "- Check again what's installed (using the first script at the top).\n",
    "- Put the comment blocks back in, to minimize risk."
   ],
   "metadata": {
    "language": "dotnet-interactive.pwsh",
    "azdata_cell_guid": "c9eb457a-c7e0-4037-842a-0a33747079c6"
   }
  },
  {
   "cell_type": "code",
   "execution_count": null,
   "source": [
    "#This script requires elevated permissions:\r\n",
    "#Requires -RunAsAdministrator\r\n",
    "\r\n",
    "<#\r\n",
    "Update-Module DataGateway* –Force\r\n",
    "#>"
   ],
   "outputs": [],
   "metadata": {
    "language": "dotnet-interactive.pwsh",
    "azdata_cell_guid": "1bd51b75-0115-4e84-b36b-15620f6b3ede",
    "dotnet_interactive": {
     "language": "pwsh"
    }
   }
  }
 ]
}