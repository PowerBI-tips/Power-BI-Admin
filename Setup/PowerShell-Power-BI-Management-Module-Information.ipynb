{
 "metadata": {
  "kernelspec": {
   "name": ".net-csharp",
   "display_name": ".NET (C#)",
   "language": "C#"
  },
  "language_info": {
   "name": "C#"
  }
 },
 "nbformat": 4,
 "nbformat_minor": 2,
 "cells": [
  {
   "cell_type": "markdown",
   "source": [
    "# Get Information About the Power BI Management Module\n",
    "\n",
    "**Author**: Melissa Coates  \n",
    "\n",
    "**Last updated and tested**: August 20, 2022 \n",
    "\n",
    "**Purpose**: Get information about the Power BI Management module."
   ],
   "metadata": {
    "azdata_cell_guid": "eb8e2c30-0a95-4add-b2cf-d9b7ced0c46b"
   }
  },
  {
   "cell_type": "markdown",
   "source": [
    "## **Check Power BI Management Module Commands**\n",
    "---\n",
    "\n",
    "The next script lists all of the commands, and aliases, available in the module.\n",
    "\n",
    "Note that there are significantly more APIs available than cmdlets. \n",
    "\n",
    "Tip: Use the original cmdlet name, instead of an alias, when possible."
   ],
   "metadata": {
    "azdata_cell_guid": "39907070-39af-4db9-8034-188ac87854ec"
   }
  },
  {
   "cell_type": "code",
   "execution_count": null,
   "source": [
    "Get-Command -Module MicrosoftPowerBIMgmt* | Sort-Object Name"
   ],
   "outputs": [],
   "metadata": {
    "azdata_cell_guid": "1ebdc693-4086-40d3-aee8-875db96e1ce8",
    "language": "dotnet-interactive.pwsh",
    "dotnet_interactive": {
     "language": "pwsh"
    }
   }
  },
  {
   "cell_type": "markdown",
   "source": [
    "The next script checks just the Profile module commands. \n",
    "\n",
    "Note: There are several aliases for the Connect-PowerBIServiceAccount cmdlet. It's helpful to be aware of this if you see different options shown in blogs and articles."
   ],
   "metadata": {
    "language": "dotnet-interactive.pwsh",
    "azdata_cell_guid": "d495ed54-d551-4058-875b-506c29e01cb9"
   }
  },
  {
   "cell_type": "code",
   "execution_count": null,
   "source": [
    "Get-Command -Module MicrosoftPowerBIMgmt* | Where-Object {$PSItem.Source -eq \"MicrosoftPowerBIMgmt.Profile\"} | Sort-Object Source\r\n",
    "\r\n",
    "#Optional - check specific version (if multiple versions are installed side by side):\r\n",
    "#$Version = '1.2.1093'\r\n",
    "#Get-Command -Module MicrosoftPowerBIMgmt* | Where-Object {$PSItem.Source -eq \"MicrosoftPowerBIMgmt.Profile\" -and $PSItem.Version -eq $Version} | Sort-Object Source"
   ],
   "outputs": [],
   "metadata": {
    "language": "dotnet-interactive.pwsh",
    "azdata_cell_guid": "02156145-6f90-4d81-9ced-eadb8d35794b",
    "dotnet_interactive": {
     "language": "pwsh"
    }
   }
  },
  {
   "cell_type": "markdown",
   "source": [
    "## **Get Help for a Cmdlet**\n",
    "---\n",
    "\n",
    "The next script displays the standard help information for the Get-PowerBIWorkspace cmdlet. It shows:\n",
    "\n",
    "- Syntax, including mandatory and \\[optional\\] parameters\n",
    "- Different ways to structure the syntax\n",
    "- Alias for the cmdlet, if applicable"
   ],
   "metadata": {
    "language": "dotnet-interactive.pwsh",
    "azdata_cell_guid": "cab5d92e-4a29-4edb-8415-817694925bb4"
   }
  },
  {
   "cell_type": "code",
   "execution_count": null,
   "source": [
    "Get-Help Get-PowerBIWorkspace"
   ],
   "outputs": [],
   "metadata": {
    "language": "dotnet-interactive.pwsh",
    "azdata_cell_guid": "bfb76d92-42f2-4e09-a411-928cb99a7f57",
    "dotnet_interactive": {
     "language": "pwsh"
    }
   }
  }
 ]
}