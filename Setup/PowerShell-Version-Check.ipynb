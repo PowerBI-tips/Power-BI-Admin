{
 "metadata": {
  "kernelspec": {
   "name": ".net-csharp",
   "display_name": ".NET (C#)",
   "language": "C#"
  },
  "language_info": {
   "name": "C#"
  }
 },
 "nbformat": 4,
 "nbformat_minor": 2,
 "cells": [
  {
   "cell_type": "markdown",
   "source": [
    "# PowerShell Checks\n",
    "\n",
    "**Author**: Melissa Coates  \n",
    "\n",
    "**Last updated and tested**: August 20, 2022 \n",
    "\n",
    "**Purpose:** This notebook verifies which version of PowerShell is installed. PowerShell Core (PowerShell 7+) is required to use .NET interactive notebooks in Azure Data Studio or VS Code."
   ],
   "metadata": {
    "azdata_cell_guid": "dbb01e95-93c7-4cc5-89a5-1ca07e9551c4"
   }
  },
  {
   "cell_type": "markdown",
   "source": [
    "## **Check version of PowerShell that's running**\r\n",
    "---"
   ],
   "metadata": {
    "azdata_cell_guid": "2c7a698d-5159-49ba-8742-b76ea0af1351"
   }
  },
  {
   "cell_type": "code",
   "execution_count": null,
   "source": [
    "$PSVersionTable"
   ],
   "outputs": [],
   "metadata": {
    "azdata_cell_guid": "a9ee247f-199d-467b-af78-7b008d655cdf",
    "language": "dotnet-interactive.pwsh",
    "dotnet_interactive": {
     "language": "pwsh"
    }
   }
  }
 ]
}