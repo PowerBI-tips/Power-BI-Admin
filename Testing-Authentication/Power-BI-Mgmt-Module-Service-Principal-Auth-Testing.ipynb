{
 "metadata": {
  "kernelspec": {
   "name": ".net-csharp",
   "display_name": ".NET (C#)",
   "language": "C#"
  },
  "language_info": {
   "name": "C#"
  }
 },
 "nbformat": 4,
 "nbformat_minor": 2,
 "cells": [
  {
   "cell_type": "markdown",
   "source": [
    "# Power BI Management Module Authentication - Service Principal\n",
    "\n",
    "**Author**: Melissa Coates  \n",
    "\n",
    "**Last updated and tested**: August 22, 2022 \n",
    "\n",
    "**Purpose:** This notebook is a guided learning experience to get familiar with how to authenticate to the Power BI Management Module using a service principal.\n",
    "\n",
    "**When to use a service principal:**\n",
    "\n",
    "- When executing scheduled, unattended, operations.\n",
    "- When you have been granted authority to to run Power BI admin APIs, but you personally aren't a Power BI administrator.\n",
    "- When there's a technical blocker to using your user account to run Power BI admin APIs (ex: MFA is enabled, password hash isn't synchronized).\n",
    "\n",
    "**Prerequisites**:\n",
    "\n",
    "The [<u>service principal</u>](https://docs.microsoft.com/en-us/power-bi/enterprise/read-only-apis-service-principal-authentication) requires:\n",
    "\n",
    "1. An Azure AD app to be registered (and its associated service principal).\n",
    "2. A secret created for the app. (Tip: watch out for expiration dates - it defaults to 1 year.) \n",
    "3. Azure AD app membership in an Azure AD group. (Tip: suggested group name: Power BI Service Principals).\n",
    "4. Power BI tenant setting \"Allow service principals to use read-only Power BI admin APIs\" is enabled for your Azure AD group (from #3).\n",
    "\n",
    "**Tips**:\n",
    "\n",
    "- Do NOT set up API permissions in Azure AD for your Azure AD app; in fact that causes an unauthorized error. Use of the Azure AD group & the tenant setting per (3) and (4) above are what controls tenant-wide read permissions for Power BI. Plus, workspace permissions where relevant. [<u>More info</u>](https://docs.microsoft.com/en-us/power-bi/enterprise/read-only-apis-service-principal-authentication)."
   ],
   "metadata": {
    "azdata_cell_guid": "d6b85f37-9b57-4549-a2f2-927bbf49e438"
   }
  },
  {
   "cell_type": "markdown",
   "source": [
    "## **Login to the Power BI Service Using a Service Principal**\n",
    "\n",
    "* * *\n",
    "\n",
    "**Update in the script before executing:**\n",
    "\n",
    "1. **Line 1: Azure AD app ID** (aka client ID)\n",
    "2. **Line 2: Azure AD tenant** ID (aka directory ID)\n",
    "\n",
    "**The script below will interactively prompt you for:**\n",
    "\n",
    "1. **Azure AD app secret** (aka client secret / app password)\n",
    "\n",
    "**Comments:**\n",
    "\n",
    "- Because this is for learning purposes, this script interactively prompts for the service principal secret to be passed into a credential object. \n",
    "- When you operationalize any of your scripts:\n",
    "    - The prompt for the app secret will need to be removed. If you're using a VM or similar, consider using the [Secret Management Module](https://www.powershellgallery.com/packages/Microsoft.PowerShell.SecretManagement) published by Microsoft for managing the secret value securely in either a local vault or in Azure Key Vault. Do NOT store secrets, keys, or passwords directly in any of the scripts (or in a separate file if it's unencrypted or trivial to decrypt). Alternatively, you could use Azure Key Vault with services like Azure Functions, Azure Automation, or Azure Data Factory.\n",
    "    - You might also store the app ID and tenant ID securely as well, once you have a solution for handling the secret."
   ],
   "metadata": {
    "azdata_cell_guid": "ba5d5e31-51fd-493c-8b9c-69d5d221991b"
   }
  },
  {
   "cell_type": "code",
   "execution_count": null,
   "source": [
    "[string]$AzureADAppID = '1234-1234'\r\n",
    "[string]$AzureTenantID = '1234-1234'\r\n",
    "\r\n",
    "#Prompt for Azure AD App secret (so that it isn't saved with the script): \r\n",
    "[securestring]$AzureADAppSecret = Read-Host -Prompt \"Input secret for $AzureADAppID\" -AsSecureString\r\n",
    "\r\n",
    "#Create temporary credential object: \r\n",
    "[pscredential]$CredentialObj = New-Object System.Management.Automation.PSCredential($AzureADAppID, $AzureADAppSecret)  \r\n",
    "\r\n",
    "#Log into Power BI Service with credential:\r\n",
    "Connect-PowerBIServiceAccount -Credential $CredentialObj -ServicePrincipal -Tenant $AzureTenantID"
   ],
   "outputs": [],
   "metadata": {
    "azdata_cell_guid": "0841cb61-16e4-4bf7-825a-0706b9793867",
    "language": "dotnet-interactive.pwsh",
    "dotnet_interactive": {
     "language": "pwsh"
    }
   }
  },
  {
   "cell_type": "markdown",
   "source": [
    "## **Test to Verify Data is Returned: Organization Scope**  \n",
    "---\n",
    "## <span style=\"font-size: 14px;\">This script will check that data for the tenant is able to be returned. This script:</span>  \n",
    "\n",
    "- Uses the [<u>Get-PowerBIWorkspace</u>](https://docs.microsoft.com/en-us/powershell/module/microsoftpowerbimgmt.workspaces/get-powerbiworkspace) cmdlet from the Power BI Management Module.\n",
    "- Uses the \"Organization\" scope, which means that Power BI administrator permissions are required (or Power Platform administrator or global administrator). Metadata can be returned whether or not the administrator possesses workspace permissions.\n",
    "- Will return all active workspaces. Deleted and orphaned workspaces will be omitted.\n",
    "- Will display 3 columns, formatted in a table.\n",
    "- If -All is not specified, by default this cmdlet returns the first 100 workspaces.\n",
    "\n",
    "Note that the \"Organization\" scope is able to display a list of personal workspaces, in addition to standard workspaces.\n",
    "\n",
    "Tip: A service principal can also return data based on user scope, if the service principal has been granted workspace permissions. That's possible, just less common."
   ],
   "metadata": {
    "language": "dotnet-interactive.pwsh",
    "azdata_cell_guid": "408e2721-88ae-4baa-a3f2-e4c27cf727f7"
   }
  },
  {
   "cell_type": "code",
   "execution_count": null,
   "source": [
    "Get-PowerBIWorkspace -Scope Organization | Where-Object State -eq 'Active' | Format-Table Name, Type, IsOnDedicatedCapacity"
   ],
   "outputs": [],
   "metadata": {
    "language": "dotnet-interactive.pwsh",
    "azdata_cell_guid": "afbb22d5-6831-4f96-9282-d1f7018d7771",
    "dotnet_interactive": {
     "language": "pwsh"
    }
   }
  }
 ]
}