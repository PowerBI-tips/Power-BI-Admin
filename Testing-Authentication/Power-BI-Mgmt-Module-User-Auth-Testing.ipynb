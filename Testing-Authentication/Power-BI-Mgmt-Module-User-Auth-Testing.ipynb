{
 "metadata": {
  "kernelspec": {
   "name": ".net-csharp",
   "display_name": ".NET (C#)",
   "language": "C#"
  },
  "language_info": {
   "name": "C#"
  }
 },
 "nbformat": 4,
 "nbformat_minor": 2,
 "cells": [
  {
   "cell_type": "markdown",
   "source": [
    "# Power BI Management Module - User Authentication Testing\n",
    "\n",
    "**Author**: Melissa Coates  \n",
    "\n",
    "**Last updated and tested**: August 22, 2022 \n",
    "\n",
    "**Purpose:** This notebook is a guided learning experience to get familiar with how to authenticate to the Power BI Management Module using a domain user. This is an interactive login experience, which is appropriate when running ad hoc scripts."
   ],
   "metadata": {
    "azdata_cell_guid": "d6b85f37-9b57-4549-a2f2-927bbf49e438"
   }
  },
  {
   "cell_type": "markdown",
   "source": [
    "## **Interactive Login to the Power BI Service**\n",
    "---\n",
    "The script below will interactively prompt you for:\n",
    "\n",
    "1. Domain user's email address\n",
    "2. Domain user's password\n",
    "\n",
    "After signing in, the access token is active for one hour.\n",
    "\n",
    "An interactive prompt is included here since hard-coding accounts and passwords isn't secure. This will only work for an account that doesn't have MFA enabled."
   ],
   "metadata": {
    "language": "dotnet-interactive.pwsh",
    "azdata_cell_guid": "e543543d-5964-4f86-9916-33864487c416"
   }
  },
  {
   "cell_type": "code",
   "execution_count": null,
   "source": [
    "[string]$DomainUserEmailAddr = Read-Host -Prompt \"Input domain user email address\"\r\n",
    "\r\n",
    "#Prompt for account password: \r\n",
    "[securestring]$DomainUserPW = Read-Host -Prompt \"Input password for $DomainUserEmailAddr\" -AsSecureString\r\n",
    "\r\n",
    "#Create temporary credential object: \r\n",
    "[pscredential]$CredentialObj = New-Object System.Management.Automation.PSCredential($DomainUserEmailAddr, $DomainUserPW)  \r\n",
    "\r\n",
    "#Log into Power BI Service with credential:\r\n",
    "Connect-PowerBIServiceAccount -Credential $CredentialObj"
   ],
   "outputs": [],
   "metadata": {
    "azdata_cell_guid": "a5d752f5-7d23-492a-b3a2-22b24e26881a",
    "language": "dotnet-interactive.pwsh",
    "dotnet_interactive": {
     "language": "pwsh"
    }
   }
  },
  {
   "cell_type": "markdown",
   "source": [
    "## **Test 1 to Verify Data is Returned: User Scope**\n",
    "\n",
    "* * *\n",
    "\n",
    "The next script will check that data is able to be returned. This script:\n",
    "\n",
    "- Uses the [<u>Get-PowerBIWorkspace</u>](https://docs.microsoft.com/en-us/powershell/module/microsoftpowerbimgmt.workspaces/get-powerbiworkspace) cmdlet from the Power BI Management Module.\n",
    "- Uses permissions levels of the signed-in user (i.e., it doesn't require Power BI admin permissions). \n",
    "- Will return the first 2 workspaces it finds (since this is only a test to verify we've authenticated and can get data).\n",
    "- If -All is not specified, by default this cmdlet returns the first 100 workspaces."
   ],
   "metadata": {
    "language": "dotnet-interactive.pwsh",
    "azdata_cell_guid": "cc6d86bb-ef3e-47e1-aeb5-947575330afe"
   }
  },
  {
   "cell_type": "code",
   "execution_count": null,
   "source": [
    "Get-PowerBIWorkspace -First 2"
   ],
   "outputs": [],
   "metadata": {
    "language": "dotnet-interactive.pwsh",
    "azdata_cell_guid": "28e1313c-8f3f-4352-b239-77363d48e72b",
    "dotnet_interactive": {
     "language": "pwsh"
    },
    "tags": []
   }
  },
  {
   "cell_type": "markdown",
   "source": [
    "## **Test 2 to Verify Data is Returned: Organization Scope**\n",
    "\n",
    "* * *\n",
    "\n",
    "The next script will check that data for the tenant is able to be returned. This script:\n",
    "\n",
    "- Uses the [<u>Get-PowerBIWorkspace</u>](https://docs.microsoft.com/en-us/powershell/module/microsoftpowerbimgmt.workspaces/get-powerbiworkspace) cmdlet from the Power BI Management Module.\n",
    "- Uses the \"Organization\" scope, which means that Power BI administrator permissions are required (or Power Platform administrator or global administrator). With admin permissions, metadata can be returned whether or not the administrator possesses workspace permissions.\n",
    "- Will return the first 3 workspaces it finds (since this is only a test to verify we've authenticated and can get data).\n",
    "\n",
    "Note that the \"Organization\" scope is able to display a list of personal workspaces, in addition to standard workspaces."
   ],
   "metadata": {
    "language": "dotnet-interactive.pwsh",
    "azdata_cell_guid": "2857e001-b296-4528-be95-5ec29fac7e3e"
   }
  },
  {
   "cell_type": "code",
   "execution_count": null,
   "source": [
    "Get-PowerBIWorkspace -Scope Organization -First 3"
   ],
   "outputs": [],
   "metadata": {
    "language": "dotnet-interactive.pwsh",
    "azdata_cell_guid": "855a637f-5865-4304-9c1f-839b464157f0",
    "dotnet_interactive": {
     "language": "pwsh"
    }
   }
  },
  {
   "cell_type": "markdown",
   "source": [
    "## **Disconnect from the Power BI Service**\n",
    "---\n",
    "It's useful to add this at the end of automation scripts, as a matter of good housekeeping. If you don't log out (or refresh your access token), you'll be automatically disconnected after 1 hour."
   ],
   "metadata": {
    "azdata_cell_guid": "28fda8e0-1e82-4045-aeb7-705f1dab9b45"
   }
  },
  {
   "cell_type": "code",
   "execution_count": null,
   "source": [
    "Disconnect-PowerBIServiceAccount"
   ],
   "outputs": [],
   "metadata": {
    "azdata_cell_guid": "f38d3316-a325-42ef-ba3b-1bfeabc6fc54",
    "language": "dotnet-interactive.pwsh",
    "dotnet_interactive": {
     "language": "pwsh"
    }
   }
  }
 ]
}